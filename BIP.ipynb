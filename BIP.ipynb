{
 "cells": [
  {
   "cell_type": "code",
   "execution_count": 1,
   "metadata": {},
   "outputs": [],
   "source": [
    "import json"
   ]
  },
  {
   "cell_type": "code",
   "execution_count": 2,
   "metadata": {},
   "outputs": [],
   "source": [
    "with open('py_challange_input.json') as json_file:\n",
    "    data = json.load(json_file)"
   ]
  },
  {
   "cell_type": "code",
   "execution_count": 3,
   "metadata": {},
   "outputs": [
    {
     "name": "stdout",
     "output_type": "stream",
     "text": [
      "Type: <class 'dict'>\n"
     ]
    }
   ],
   "source": [
    "print(\"Type:\", type(data))"
   ]
  },
  {
   "cell_type": "code",
   "execution_count": 12,
   "metadata": {},
   "outputs": [
    {
     "name": "stdout",
     "output_type": "stream",
     "text": [
      "\n",
      "matches in region 1: [{'id': 6038, 'startTime': 1629944520, 'team1': 'T1', 'team2': 'T2', 'venue': 'V1', 'streaming': {'liveStream': {'provider': 'north-sky', 'channel': '001'}}, 'results': {'winner': 'T2', 'points': 2, 'resultsWithheld': False}, 'httpLink': 'cric/t20/north/t1vst2/v1/6038', 'isInternational': False}, {'id': 6039, 'startTime': 1629944520, 'team1': 'T2', 'team2': 'T3', 'venue': 'V2', 'streaming': {'liveStream': {'provider': 'north-sky', 'channel': '002'}}, 'results': {'winner': 'T2', 'points': 2, 'resultsWithheld': False}, 'httpLink': 'cric/t20/north/t2vst3/v2/6039', 'isInternational': False}, {'id': 6040, 'startTime': 1629944520, 'team1': 'T3', 'team2': 'T4', 'venue': 'V3', 'streaming': {'liveStream': {'provider': 'north-sky', 'channel': '003'}}, 'results': {'winner': 'T4', 'points': 2, 'resultsWithheld': False}, 'httpLink': 'cric/t20/north/t3vst4/v3/6040', 'isInternational': False}, {'id': 6041, 'startTime': 1629944520, 'team1': 'T4', 'team2': 'T1', 'venue': 'V4', 'streaming': {'liveStream': {'provider': 'north-sky', 'channel': '004'}}, 'results': {'winner': '', 'points': 0, 'resultsWithheld': True}, 'httpLink': 'cric/t20/north/t4vst1/v4/6041', 'isInternational': False}]\n"
     ]
    }
   ],
   "source": [
    "print(\"\\nmatches in region 1:\", data['Cricket'][0]['formats'][0]['regions'][0]['matches'][0:])"
   ]
  },
  {
   "cell_type": "code",
   "execution_count": 14,
   "metadata": {},
   "outputs": [
    {
     "name": "stdout",
     "output_type": "stream",
     "text": [
      "\n",
      "matches in region 2: [{'id': 7038, 'startTime': 1629944520, 'team1': 'T5', 'team2': 'T6', 'venue': 'V5', 'streaming': {'liveStream': {'provider': 'south-sky', 'channel': '101'}}, 'results': {'winner': 'T6', 'points': 2, 'resultsWithheld': False}, 'httpLink': 'cric/t20/south/t5vst6/v5/7038', 'isInternational': False}, {'id': 7039, 'startTime': 1629944520, 'team1': 'T6', 'team2': 'T7', 'venue': 'V6', 'streaming': {'liveStream': {'provider': 'south-sky', 'channel': '102'}}, 'results': {'winner': '', 'points': 0, 'resultsWithheld': True}, 'httpLink': 'cric/t20/south/t6vst7/v6/7039', 'isInternational': False}, {'id': 7040, 'startTime': 1629944520, 'team1': 'T7', 'team2': 'T8', 'venue': 'V7', 'streaming': {'liveStream': {'provider': 'south-sky', 'channel': '103'}}, 'results': {'winner': 'T8', 'points': 2, 'resultsWithheld': False}, 'httpLink': 'cric/t20/south/t7vst8/v7/7040', 'isInternational': False}, {'id': 7041, 'startTime': 1629944520, 'team1': 'T8', 'team2': 'T5', 'venue': 'V8', 'streaming': {'liveStream': {'provider': 'south-sky', 'channel': '104'}}, 'results': {'winner': 'T8', 'points': 2, 'resultsWithheld': False}, 'httpLink': 'cric/t20/south/t8vst5/v8/7041', 'isInternational': False}]\n"
     ]
    }
   ],
   "source": [
    "print(\"\\nmatches in region 2:\", data['Cricket'][0]['formats'][0]['regions'][1]['matches'][0:])"
   ]
  },
  {
   "cell_type": "code",
   "execution_count": 15,
   "metadata": {},
   "outputs": [
    {
     "name": "stdout",
     "output_type": "stream",
     "text": [
      "\n",
      "matches in region 3: [{'id': 8038, 'startTime': 1629944520, 'team1': 'T10', 'team2': 'T11', 'venue': 'V10', 'streaming': {'liveStream': {'provider': 'central-sky', 'channel': '201'}}, 'results': {'winner': 'T10', 'points': 2, 'resultsWithheld': False}, 'httpLink': 'cric/t20/central/t10vst11/v10/8038', 'isInternational': False}, {'id': 8039, 'startTime': 1629944520, 'team1': 'T11', 'team2': 'T12', 'venue': 'V11', 'streaming': {'liveStream': {'provider': 'central-sky', 'channel': '202'}}, 'results': {'winner': 'T12', 'points': 2, 'resultsWithheld': False}, 'httpLink': 'cric/t20/central/t11vst12/v11/8039', 'isInternational': False}, {'id': 8040, 'startTime': 1629944520, 'team1': 'T12', 'team2': 'T13', 'venue': 'V12', 'streaming': {'liveStream': {'provider': 'central-sky', 'channel': '203'}}, 'results': {'winner': 'T12', 'points': 2, 'resultsWithheld': False}, 'httpLink': 'cric/t20/central/t12vst13/v12/8040', 'isInternational': False}, {'id': 8041, 'startTime': 1629944520, 'team1': 'T13', 'team2': 'T10', 'venue': 'V13', 'streaming': {'liveStream': {'provider': 'central-sky', 'channel': '204'}}, 'results': {'winner': 'T10', 'points': 2, 'resultsWithheld': False}, 'httpLink': 'cric/t20/central/t13vst10/v13/8041', 'isInternational': False}]\n"
     ]
    }
   ],
   "source": [
    "print(\"\\nmatches in region 3:\", data['Cricket'][0]['formats'][0]['regions'][2]['matches'][0:])"
   ]
  },
  {
   "cell_type": "code",
   "execution_count": 18,
   "metadata": {},
   "outputs": [
    {
     "name": "stdout",
     "output_type": "stream",
     "text": [
      "\n",
      "matches in ODI format: [{'id': 16038, 'startTime': 1629944520, 'team1': 'T1', 'team2': 'T2', 'venue': 'NZ-V1', 'streaming': {'liveStream': {'provider': 'nz-ez', 'channel': '001'}}, 'results': {'winner': 'T2', 'points': 4, 'resultsWithheld': False}, 'httpLink': 'cric/odi/nz/t1vst2/v1/16038', 'isInternational': True}, {'id': 16039, 'startTime': 1629944520, 'team1': 'T2', 'team2': 'T3', 'venue': 'NZ-V2', 'streaming': {'liveStream': {'provider': 'nz-ez', 'channel': '002'}}, 'results': {'winner': 'T2', 'points': 4, 'resultsWithheld': False}, 'httpLink': 'cric/odi/nz/t2vst3/v2/16039', 'isInternational': True}, {'id': 16040, 'startTime': 1629944520, 'team1': 'T3', 'team2': 'T4', 'venue': 'NZ-V3', 'streaming': {'liveStream': {'provider': 'nz-ez', 'channel': '003'}}, 'results': {'winner': 'T4', 'points': 4, 'resultsWithheld': False}, 'httpLink': 'cric/odi/nz/t3vst4/v3/16040', 'isInternational': True}, {'id': 16041, 'startTime': 1629944520, 'team1': 'T4', 'team2': 'T1', 'venue': 'NZ-V4', 'streaming': {'liveStream': {'provider': 'nz-ez', 'channel': '004'}}, 'results': {'winner': 'T1', 'points': 4, 'resultsWithheld': False}, 'httpLink': 'cric/odi/nz/t4vst1/v4/16041', 'isInternational': True}]\n"
     ]
    }
   ],
   "source": [
    "print(\"\\nmatches in ODI format:\", data['Cricket'][0]['formats'][1]['regions'][0]['matches'][0:])"
   ]
  },
  {
   "cell_type": "code",
   "execution_count": 20,
   "metadata": {},
   "outputs": [
    {
     "name": "stdout",
     "output_type": "stream",
     "text": [
      "\n",
      "matches in ODI format: [{'id': 17038, 'startTime': 1629944520, 'team1': 'T5', 'team2': 'T6', 'venue': 'V5', 'streaming': {'liveStream': {'provider': 'south-sky', 'channel': '101'}}, 'results': {'winner': 'T5', 'points': 4, 'resultsWithheld': False}, 'httpLink': 'cric/t20/south/t5vst6/v5/17038', 'isInternational': False}, {'id': 17039, 'startTime': 1629944520, 'team1': 'T6', 'team2': 'T7', 'venue': 'V6', 'streaming': {'liveStream': {'provider': 'south-sky', 'channel': '102'}}, 'results': {'winner': 'T6', 'points': 4, 'resultsWithheld': False}, 'httpLink': 'cric/t20/south/t6vst7/v6/17039', 'isInternational': False}, {'id': 17040, 'startTime': 1629944520, 'team1': 'T7', 'team2': 'T8', 'venue': 'V7', 'streaming': {'liveStream': {'provider': 'south-sky', 'channel': '103'}}, 'results': {'winner': '', 'points': 0, 'resultsWithheld': True}, 'httpLink': 'cric/t20/south/t7vst8/v7/17040', 'isInternational': False}, {'id': 17041, 'startTime': 1629944520, 'team1': 'T8', 'team2': 'T5', 'venue': 'V8', 'streaming': {'liveStream': {'provider': 'south-sky', 'channel': '104'}}, 'results': {'winner': 'T8', 'points': 4, 'resultsWithheld': False}, 'httpLink': 'cric/t20/south/t8vst5/v8/17041', 'isInternational': False}]\n"
     ]
    }
   ],
   "source": [
    "print(\"\\nmatches in ODI format:\", data['Cricket'][0]['formats'][1]['regions'][1]['matches'][0:])"
   ]
  },
  {
   "cell_type": "code",
   "execution_count": 21,
   "metadata": {},
   "outputs": [
    {
     "name": "stdout",
     "output_type": "stream",
     "text": [
      "\n",
      "matches in ODI format: [{'id': 18038, 'startTime': 1629944520, 'team1': 'T10', 'team2': 'T11', 'venue': 'V10', 'streaming': {'liveStream': {'provider': 'central-sky', 'channel': '201'}}, 'results': {'winner': 'T10', 'points': 4, 'resultsWithheld': False}, 'streamingAvailable': False, 'availableStreamingType': None, 'httpLink': 'cric/t20/central/t10vst11/v10/18038', 'isInternational': False}, {'id': 18039, 'startTime': 1629944520, 'team1': 'T11', 'team2': 'T12', 'venue': 'V11', 'streaming': {'liveStream': {'provider': 'central-sky', 'channel': '202'}}, 'results': {'winner': 'T12', 'points': 4, 'resultsWithheld': False}, 'streamingAvailable': False, 'availableStreamingType': None, 'httpLink': 'cric/t20/central/t11vst12/v11/18039', 'isInternational': False}, {'id': 18040, 'startTime': 1629944520, 'team1': 'T12', 'team2': 'T13', 'venue': 'V12', 'streaming': {'liveStream': {'provider': 'central-sky', 'channel': '203'}}, 'results': {'winner': 'T12', 'points': 4, 'resultsWithheld': False}, 'streamingAvailable': False, 'availableStreamingType': None, 'httpLink': 'cric/t20/central/t12vst13/v12/18040', 'isInternational': False}, {'id': 18041, 'startTime': 1629944520, 'team1': 'T13', 'team2': 'T10', 'venue': 'V13', 'streaming': {'liveStream': {'provider': 'central-sky', 'channel': '204'}}, 'results': {'winner': 'T10', 'points': 4, 'resultsWithheld': False}, 'streamingAvailable': False, 'availableStreamingType': None, 'httpLink': 'cric/t20/central/t13vst10/v13/18041', 'isInternational': False}]\n"
     ]
    }
   ],
   "source": [
    "print(\"\\nmatches in ODI format:\", data['Cricket'][0]['formats'][1]['regions'][2]['matches'][0:])"
   ]
  },
  {
   "cell_type": "code",
   "execution_count": null,
   "metadata": {},
   "outputs": [],
   "source": []
  }
 ],
 "metadata": {
  "kernelspec": {
   "display_name": "Python 3",
   "language": "python",
   "name": "python3"
  },
  "language_info": {
   "codemirror_mode": {
    "name": "ipython",
    "version": 3
   },
   "file_extension": ".py",
   "mimetype": "text/x-python",
   "name": "python",
   "nbconvert_exporter": "python",
   "pygments_lexer": "ipython3",
   "version": "3.7.3"
  }
 },
 "nbformat": 4,
 "nbformat_minor": 2
}
