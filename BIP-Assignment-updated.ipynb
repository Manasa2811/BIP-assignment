{
 "cells": [
  {
   "cell_type": "code",
   "execution_count": 22,
   "metadata": {},
   "outputs": [
    {
     "name": "stdout",
     "output_type": "stream",
     "text": [
      "<class 'dict'>\n"
     ]
    }
   ],
   "source": [
    "import json\n",
    "\n",
    "with open('py_challange_input.json') as file:\n",
    "    j = json.load(file)\n",
    "    print(type(j))\n",
    "    \n",
    "for i in range(0,3):\n",
    "  for j in range(0,2):\n",
    "    for k in range(0,4):\n",
    "      data={\"match_id\":[],\"livestream_provider\":[],\"winner_of_the_match\":[],\"region_name\":[],\"match_link\":[],\"team1\":[],\"team2\":[],\"start_time\":[]}\n",
    "      data['match_id']=d['Cricket'][0]['formats'][j]['regions'][i]['matches'][k]['id']\n",
    "      data['livestream_provider']=d['Cricket'][0]['formats'][j]['regions'][i]['matches'][k]['streaming']['liveStream']['provider']\n",
    "      data['winner_of_the_match']=d['Cricket'][0]['formats'][j]['regions'][i]['matches'][k][\"results\"]['winner']\n",
    "      data['region_name']=d['Cricket'][0]['formats'][j]['regions'][i]['name']\n",
    "      data['match_link']=d['Cricket'][0]['formats'][j]['regions'][i]['matches'][k]['httpLink']\n",
    "      data['team1']=d['Cricket'][0]['formats'][j]['regions'][i]['matches'][k]['team1']\n",
    "      data['team2']=d['Cricket'][0]['formats'][j]['regions'][i]['matches'][k]['team2']\n",
    "      data['start_time']=d['Cricket'][0]['formats'][j]['regions'][i]['matches'][k]['startTime']\n",
    "      with open('Matches.json','a') as file:\n",
    "        file.write(json.dumps(data,indent=4))"
   ]
  },
  {
   "cell_type": "code",
   "execution_count": 16,
   "metadata": {},
   "outputs": [],
   "source": []
  },
  {
   "cell_type": "code",
   "execution_count": null,
   "metadata": {},
   "outputs": [],
   "source": []
  }
 ],
 "metadata": {
  "kernelspec": {
   "display_name": "Python 3",
   "language": "python",
   "name": "python3"
  },
  "language_info": {
   "codemirror_mode": {
    "name": "ipython",
    "version": 3
   },
   "file_extension": ".py",
   "mimetype": "text/x-python",
   "name": "python",
   "nbconvert_exporter": "python",
   "pygments_lexer": "ipython3",
   "version": "3.7.3"
  }
 },
 "nbformat": 4,
 "nbformat_minor": 2
}
