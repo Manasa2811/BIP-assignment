{
 "cells": [
  {
   "cell_type": "code",
   "execution_count": 2,
   "metadata": {},
   "outputs": [
    {
     "name": "stdout",
     "output_type": "stream",
     "text": [
      "<class 'dict'>\n"
     ]
    }
   ],
   "source": [
    "import json\n",
    "\n",
    "with open('py_challange_input.json') as json_data:\n",
    "    d = json.load(json_data)\n",
    "    print(type(d))\n",
    "    "
   ]
  },
  {
   "cell_type": "code",
   "execution_count": 31,
   "metadata": {},
   "outputs": [],
   "source": [
    "data1=d['Cricket'][0]['formats'][0]['regions'][0]['matches']\n",
    "with open('Matches.json','a') as file:\n",
    "    file.write(json.dumps(data1,indent=4))"
   ]
  },
  {
   "cell_type": "code",
   "execution_count": 33,
   "metadata": {},
   "outputs": [],
   "source": [
    "data2=d['Cricket'][0]['formats'][0]['regions'][1]['matches']\n",
    "with open('Matches.json','a') as file:\n",
    "    file.write(json.dumps(data2,indent=4))"
   ]
  },
  {
   "cell_type": "code",
   "execution_count": 34,
   "metadata": {},
   "outputs": [],
   "source": [
    "data3=d['Cricket'][0]['formats'][0]['regions'][2]['matches']\n",
    "with open('Matches.json','a') as file:\n",
    "    file.write(json.dumps(data3,indent=4))"
   ]
  },
  {
   "cell_type": "code",
   "execution_count": 35,
   "metadata": {},
   "outputs": [],
   "source": [
    "data4=d['Cricket'][0]['formats'][1]['regions'][0]['matches']\n",
    "with open('Matches.json','a') as file:\n",
    "    file.write(json.dumps(data4,indent=4))"
   ]
  },
  {
   "cell_type": "code",
   "execution_count": 36,
   "metadata": {},
   "outputs": [],
   "source": [
    "data5=d['Cricket'][0]['formats'][1]['regions'][1]['matches']\n",
    "with open('Matches.json','a') as file:\n",
    "    file.write(json.dumps(data5,indent=4))"
   ]
  },
  {
   "cell_type": "code",
   "execution_count": 37,
   "metadata": {},
   "outputs": [],
   "source": [
    "data6=d['Cricket'][0]['formats'][1]['regions'][2]['matches']\n",
    "with open('Matches.json','a') as file:\n",
    "    file.write(json.dumps(data6,indent=4))"
   ]
  },
  {
   "cell_type": "code",
   "execution_count": null,
   "metadata": {},
   "outputs": [],
   "source": []
  }
 ],
 "metadata": {
  "kernelspec": {
   "display_name": "Python 3",
   "language": "python",
   "name": "python3"
  },
  "language_info": {
   "codemirror_mode": {
    "name": "ipython",
    "version": 3
   },
   "file_extension": ".py",
   "mimetype": "text/x-python",
   "name": "python",
   "nbconvert_exporter": "python",
   "pygments_lexer": "ipython3",
   "version": "3.7.3"
  }
 },
 "nbformat": 4,
 "nbformat_minor": 2
}
